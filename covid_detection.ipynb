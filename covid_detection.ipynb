{
  "nbformat": 4,
  "nbformat_minor": 0,
  "metadata": {
    "accelerator": "GPU",
    "colab": {
      "name": "covid detection.ipynb",
      "provenance": [],
      "collapsed_sections": [],
      "toc_visible": true
    },
    "kernelspec": {
      "display_name": "Python 3",
      "name": "python3"
    }
  },
  "cells": [
    {
      "cell_type": "code",
      "metadata": {
        "id": "Egxnv5vpaUZJ"
      },
      "source": [
        "!ln -s /content/drive/My\\ Drive/Colab\\ Notebooks/myDrive"
      ],
      "execution_count": null,
      "outputs": []
    },
    {
      "cell_type": "code",
      "metadata": {
        "colab": {
          "base_uri": "https://localhost:8080/",
          "height": 35
        },
        "id": "8Vdcmwcl-1eL",
        "outputId": "81336785-e301-421a-e16f-5d1a67002ddb"
      },
      "source": [
        "from google.colab import drive\n",
        "\n",
        "drive.mount('/content/drive')"
      ],
      "execution_count": null,
      "outputs": [
        {
          "output_type": "stream",
          "text": [
            "Drive already mounted at /content/drive; to attempt to forcibly remount, call drive.mount(\"/content/drive\", force_remount=True).\n"
          ],
          "name": "stdout"
        }
      ]
    },
    {
      "cell_type": "code",
      "metadata": {
        "id": "S4_HKPWb6inI"
      },
      "source": [
        "import pandas as pd\n",
        "import argparse\n",
        "import shutil\n",
        "import os\n",
        "import numpy as np\n",
        "\n",
        "datapath1='/content/drive/My Drive/Colab Notebooks/covid-chestxray-dataset-master'\n",
        "dataset_path='/content/drive/My Drive/Colab Notebooks/dataset/covid postive'\n",
        "\n",
        "\n",
        "\n",
        "dataset=pd.read_csv(os.path.join(datapath1,'metadata.csv'))\n"
      ],
      "execution_count": null,
      "outputs": []
    },
    {
      "cell_type": "code",
      "metadata": {
        "colab": {
          "base_uri": "https://localhost:8080/",
          "height": 35
        },
        "id": "InGsiJQP0VHP",
        "outputId": "67e3045b-71fb-4ce1-9f55-93ad1d49152f"
      },
      "source": [
        "\n",
        "  \n",
        "count=0\n",
        "for(i,row ) in dataset.iterrows():\n",
        "  if row[\"finding\"] != \"COVID-19\" or row[\"view\"] != \"PA\":\n",
        "    continue\n",
        "  imagePath = os.path.sep.join([datapath1, 'images',row[\"filename\"]])\n",
        "  filename = row[\"filename\"]\n",
        "  outputPath = os.path.sep.join([dataset_path, filename])\n",
        "  shutil.copy2(imagePath, outputPath)\n",
        "  count+=1\n",
        "\n",
        "\n",
        "\t\n",
        "\n",
        "print(count)\n"
      ],
      "execution_count": null,
      "outputs": [
        {
          "output_type": "stream",
          "text": [
            "180\n"
          ],
          "name": "stdout"
        }
      ]
    },
    {
      "cell_type": "markdown",
      "metadata": {
        "id": "LqBhZXu1oKB6"
      },
      "source": [
        "creating next data set for normal xrays"
      ]
    },
    {
      "cell_type": "code",
      "metadata": {
        "id": "K0v1bm_10o4C"
      },
      "source": [
        ""
      ],
      "execution_count": null,
      "outputs": []
    },
    {
      "cell_type": "code",
      "metadata": {
        "id": "55I9x2hV7-2r"
      },
      "source": [
        "kageldatapath='/content/drive/My Drive/Colab Notebooks/Coronahack-Chest-XRay-Dataset'\n",
        "kageldataset_path='/content/drive/My Drive/Colab Notebooks/dataset1/covid negative'\n",
        "\n",
        "\n",
        "kageldataset=pd.read_csv(os.path.join(kageldatapath,'Metadata.csv'))\n",
        "count=0\n",
        "for(i,row ) in kageldataset.iterrows():\n",
        "  \n",
        " \n",
        "  if row[\"Label\"] != \"Normal\" :\n",
        "    continue\n",
        "  print(\"a\")\n",
        "  imagePath = os.path.sep.join([kageldatapath, 'train',row[\"X_ray_image_name\"]])\n",
        "  filename = row[\"X_ray_image_name\"]\n",
        "  outputPath = os.path.sep.join([kageldataset_path, filename])\n",
        "  shutil.copy2(imagePath, outputPath)\n",
        "  count+=1\n",
        "  if (count==180):\n",
        "    break\n",
        "\n",
        "print(count)"
      ],
      "execution_count": null,
      "outputs": []
    },
    {
      "cell_type": "markdown",
      "metadata": {
        "id": "KFDzBtMlhbnG"
      },
      "source": [
        "preprocessing the dataset\n"
      ]
    },
    {
      "cell_type": "code",
      "metadata": {
        "colab": {
          "base_uri": "https://localhost:8080/"
        },
        "id": "Lp_LwmXuyLWE",
        "outputId": "61eaac91-b5f0-4758-8428-eb3560bf247c"
      },
      "source": [
        "from imutils import paths\n",
        "import cv2\n",
        "from sklearn.preprocessing import LabelBinarizer\n",
        "from tensorflow.keras.utils import to_categorical\n",
        "from tensorflow.keras.preprocessing.image import ImageDataGenerator\n",
        "from sklearn.model_selection import train_test_split\n",
        "\n",
        "\n",
        "dataset_path='/content/drive/My Drive/Colab Notebooks/dataset'\n",
        "imagePaths = list(paths.list_images(dataset_path))\n",
        "data = []\n",
        "labels = []\n",
        "\n",
        "for imagePath in imagePaths:\n",
        "  label = imagePath.split(os.path.sep)[-2]\n",
        "  \n",
        "  if (label not in ['covid negative','covid postive']):\n",
        "    continue\n",
        "  \n",
        "  image = cv2.imread(imagePath)\n",
        "  image = cv2.cvtColor(image, cv2.COLOR_BGR2GRAY)\n",
        "  image = cv2.resize(image, (224, 224)) \n",
        "  data.append(image)\n",
        "  labels.append(label)\n",
        "\n",
        "data = np.array(data) / 255.0\n",
        "data=np.reshape(data,(data.shape[0],224,224,1))\n",
        "print(data.shape)\n",
        "\n",
        "labels = np.array(labels)\n",
        "print(labels[:1])\n",
        "lb = LabelBinarizer()\n",
        "labels = lb.fit_transform(labels)\n",
        "labels = to_categorical(labels)\n",
        "print(labels[:1])\n",
        "\n",
        "(trainX, testX, trainY, testY) = train_test_split(data, labels,\n",
        "\ttest_size=0.20, stratify=labels, random_state=42)\n",
        "\n",
        "\n",
        "trainAug = ImageDataGenerator(\n",
        "\trotation_range=15,\n",
        "\tfill_mode=\"nearest\")\n",
        "\n",
        "\n",
        "\n",
        " \n",
        "\t\n",
        "\t\n",
        "\n",
        "\n"
      ],
      "execution_count": null,
      "outputs": [
        {
          "output_type": "stream",
          "text": [
            "(358, 224, 224, 1)\n",
            "['covid postive']\n",
            "[[0. 1.]]\n"
          ],
          "name": "stdout"
        }
      ]
    },
    {
      "cell_type": "code",
      "metadata": {
        "colab": {
          "base_uri": "https://localhost:8080/"
        },
        "id": "r6DQ-qFGNHWV",
        "outputId": "1c883560-4a1c-4f76-eee0-c8ed88b1e729"
      },
      "source": [
        "print (data.shape)"
      ],
      "execution_count": null,
      "outputs": [
        {
          "output_type": "stream",
          "text": [
            "(358, 224, 224, 1)\n"
          ],
          "name": "stdout"
        }
      ]
    },
    {
      "cell_type": "markdown",
      "metadata": {
        "id": "nfnf0alebzZQ"
      },
      "source": [
        "#model training"
      ]
    },
    {
      "cell_type": "code",
      "metadata": {
        "colab": {
          "base_uri": "https://localhost:8080/"
        },
        "id": "6Wu3jmEqsDd8",
        "outputId": "123aa8c7-bbf5-408f-ccb7-6e5e66d2d02e"
      },
      "source": [
        "from keras.models import Sequential,Model\n",
        "from keras.layers import Dense, Dropout, Flatten\n",
        "from keras.layers import Conv2D,Activation,MaxPooling2D\n",
        "from keras.utils import normalize\n",
        "from keras.layers import Concatenate\n",
        "from keras import Input\n",
        "from keras.callbacks import ModelCheckpoint\n",
        "\n",
        "input_shape=data.shape[1:] \n",
        "print(input_shape)\n",
        "inp=Input(shape=input_shape)\n",
        "convs=[]\n",
        "\n",
        "parrallel_kernels=[3,5,7]\n",
        "\n",
        "for k in range(len(parrallel_kernels)):\n",
        "\n",
        "    conv = Conv2D(128, parrallel_kernels[k],padding='same',activation='relu',input_shape=input_shape,strides=1)(inp)\n",
        "    convs.append(conv)\n",
        "\n",
        "out = Concatenate()(convs)\n",
        "conv_model = Model(inp,out)\n",
        "\n",
        "model = Sequential()\n",
        "model.add(conv_model)\n",
        "\n",
        "model.add(Conv2D(64,(3,3)))\n",
        "model.add(Activation('relu'))\n",
        "model.add(MaxPooling2D(pool_size=(2,2)))\n",
        "\n",
        "model.add(Conv2D(32,(3,3)))\n",
        "model.add(Activation('relu'))\n",
        "model.add(MaxPooling2D(pool_size=(2,2)))\n",
        "\n",
        "model.add(Flatten())\n",
        "model.add(Dropout(0.5))\n",
        "model.add(Dense(128,activation='relu'))\n",
        "model.add(Dropout(0.5))\n",
        "model.add(Dense(64,activation='relu'))\n",
        "model.add(Dropout(0.5))\n",
        "model.add(Dense(2,input_dim=128,activation='softmax'))\n",
        "model.compile(loss='categorical_crossentropy',optimizer='adam',metrics=['accuracy'])\n",
        "\n",
        "model.summary()"
      ],
      "execution_count": null,
      "outputs": [
        {
          "output_type": "stream",
          "text": [
            "(224, 224, 1)\n",
            "Model: \"sequential\"\n",
            "_________________________________________________________________\n",
            "Layer (type)                 Output Shape              Param #   \n",
            "=================================================================\n",
            "model (Functional)           (None, 224, 224, 384)     11008     \n",
            "_________________________________________________________________\n",
            "conv2d_3 (Conv2D)            (None, 222, 222, 64)      221248    \n",
            "_________________________________________________________________\n",
            "activation (Activation)      (None, 222, 222, 64)      0         \n",
            "_________________________________________________________________\n",
            "max_pooling2d (MaxPooling2D) (None, 111, 111, 64)      0         \n",
            "_________________________________________________________________\n",
            "conv2d_4 (Conv2D)            (None, 109, 109, 32)      18464     \n",
            "_________________________________________________________________\n",
            "activation_1 (Activation)    (None, 109, 109, 32)      0         \n",
            "_________________________________________________________________\n",
            "max_pooling2d_1 (MaxPooling2 (None, 54, 54, 32)        0         \n",
            "_________________________________________________________________\n",
            "flatten (Flatten)            (None, 93312)             0         \n",
            "_________________________________________________________________\n",
            "dropout (Dropout)            (None, 93312)             0         \n",
            "_________________________________________________________________\n",
            "dense (Dense)                (None, 128)               11944064  \n",
            "_________________________________________________________________\n",
            "dropout_1 (Dropout)          (None, 128)               0         \n",
            "_________________________________________________________________\n",
            "dense_1 (Dense)              (None, 64)                8256      \n",
            "_________________________________________________________________\n",
            "dropout_2 (Dropout)          (None, 64)                0         \n",
            "_________________________________________________________________\n",
            "dense_2 (Dense)              (None, 2)                 130       \n",
            "=================================================================\n",
            "Total params: 12,203,170\n",
            "Trainable params: 12,203,170\n",
            "Non-trainable params: 0\n",
            "_________________________________________________________________\n"
          ],
          "name": "stdout"
        }
      ]
    },
    {
      "cell_type": "markdown",
      "metadata": {
        "id": "3ul5SlGAEmzf"
      },
      "source": [
        ""
      ]
    },
    {
      "cell_type": "code",
      "metadata": {
        "colab": {
          "base_uri": "https://localhost:8080/"
        },
        "id": "C06XBOdjEnDH",
        "outputId": "3e1d4703-e028-4185-db4e-88a5872428ca"
      },
      "source": [
        "import tensorflow as tf\n",
        "\n",
        "H = model.fit_generator(\n",
        "\ttrainAug.flow(trainX, trainY, batch_size=32),\n",
        "\tsteps_per_epoch=len(trainX) // 32,\n",
        "\tvalidation_data=(testX, testY),\n",
        "\tvalidation_steps=len(testX) // 32,\n",
        "\tepochs=20)\n"
      ],
      "execution_count": null,
      "outputs": [
        {
          "output_type": "stream",
          "text": [
            "/usr/local/lib/python3.6/dist-packages/tensorflow/python/keras/engine/training.py:1844: UserWarning: `Model.fit_generator` is deprecated and will be removed in a future version. Please use `Model.fit`, which supports generators.\n",
            "  warnings.warn('`Model.fit_generator` is deprecated and '\n"
          ],
          "name": "stderr"
        },
        {
          "output_type": "stream",
          "text": [
            "Epoch 1/20\n",
            "8/8 [==============================] - 14s 709ms/step - loss: 0.9453 - accuracy: 0.4814 - val_loss: 0.6614 - val_accuracy: 0.5000\n",
            "Epoch 2/20\n",
            "8/8 [==============================] - 3s 353ms/step - loss: 0.6346 - accuracy: 0.6519 - val_loss: 0.4681 - val_accuracy: 0.9167\n",
            "Epoch 3/20\n",
            "8/8 [==============================] - 3s 337ms/step - loss: 0.4586 - accuracy: 0.8295 - val_loss: 0.1978 - val_accuracy: 0.9306\n",
            "Epoch 4/20\n",
            "8/8 [==============================] - 3s 337ms/step - loss: 0.3153 - accuracy: 0.8484 - val_loss: 0.2044 - val_accuracy: 0.9167\n",
            "Epoch 5/20\n",
            "8/8 [==============================] - 3s 338ms/step - loss: 0.1692 - accuracy: 0.9359 - val_loss: 0.1642 - val_accuracy: 0.9306\n",
            "Epoch 6/20\n",
            "8/8 [==============================] - 3s 339ms/step - loss: 0.1916 - accuracy: 0.9371 - val_loss: 0.2321 - val_accuracy: 0.9167\n",
            "Epoch 7/20\n",
            "8/8 [==============================] - 3s 338ms/step - loss: 0.1390 - accuracy: 0.9427 - val_loss: 0.0248 - val_accuracy: 0.9861\n",
            "Epoch 8/20\n",
            "8/8 [==============================] - 3s 338ms/step - loss: 0.2289 - accuracy: 0.9451 - val_loss: 0.2338 - val_accuracy: 0.9028\n",
            "Epoch 9/20\n",
            "8/8 [==============================] - 3s 338ms/step - loss: 0.1991 - accuracy: 0.9614 - val_loss: 0.2120 - val_accuracy: 0.9028\n",
            "Epoch 10/20\n",
            "8/8 [==============================] - 3s 336ms/step - loss: 0.1497 - accuracy: 0.9645 - val_loss: 0.0038 - val_accuracy: 1.0000\n",
            "Epoch 11/20\n",
            "8/8 [==============================] - 3s 337ms/step - loss: 0.0825 - accuracy: 0.9733 - val_loss: 0.1539 - val_accuracy: 0.9306\n",
            "Epoch 12/20\n",
            "8/8 [==============================] - 3s 337ms/step - loss: 0.0955 - accuracy: 0.9556 - val_loss: 0.1139 - val_accuracy: 0.9444\n",
            "Epoch 13/20\n",
            "8/8 [==============================] - 3s 336ms/step - loss: 0.0967 - accuracy: 0.9553 - val_loss: 0.0615 - val_accuracy: 0.9583\n",
            "Epoch 14/20\n",
            "8/8 [==============================] - 3s 338ms/step - loss: 0.0591 - accuracy: 0.9875 - val_loss: 0.0118 - val_accuracy: 1.0000\n",
            "Epoch 15/20\n",
            "8/8 [==============================] - 3s 335ms/step - loss: 0.0873 - accuracy: 0.9880 - val_loss: 0.0618 - val_accuracy: 0.9583\n",
            "Epoch 16/20\n",
            "8/8 [==============================] - 3s 336ms/step - loss: 0.0837 - accuracy: 0.9639 - val_loss: 0.0097 - val_accuracy: 1.0000\n",
            "Epoch 17/20\n",
            "8/8 [==============================] - 3s 336ms/step - loss: 0.0623 - accuracy: 0.9824 - val_loss: 0.1126 - val_accuracy: 0.9444\n",
            "Epoch 18/20\n",
            "8/8 [==============================] - 3s 340ms/step - loss: 0.1066 - accuracy: 0.9777 - val_loss: 0.0996 - val_accuracy: 0.9444\n",
            "Epoch 19/20\n",
            "8/8 [==============================] - 3s 336ms/step - loss: 0.0641 - accuracy: 0.9766 - val_loss: 0.0407 - val_accuracy: 0.9861\n",
            "Epoch 20/20\n",
            "8/8 [==============================] - 3s 337ms/step - loss: 0.0792 - accuracy: 0.9793 - val_loss: 0.0700 - val_accuracy: 0.9583\n"
          ],
          "name": "stdout"
        }
      ]
    },
    {
      "cell_type": "code",
      "metadata": {
        "id": "1TfH8aKVgOTU"
      },
      "source": [
        "\n",
        "\n",
        "model.save('/content/drive/My Drive/Colab Notebooks/model/model_save.h5',save_format='h5')"
      ],
      "execution_count": null,
      "outputs": []
    },
    {
      "cell_type": "markdown",
      "metadata": {
        "id": "o6sUOS4Ke238"
      },
      "source": [
        ""
      ]
    },
    {
      "cell_type": "code",
      "metadata": {
        "colab": {
          "base_uri": "https://localhost:8080/",
          "height": 279
        },
        "id": "te7gbeAWe3cT",
        "outputId": "8168f70e-7f50-4b6b-f6ee-15ad88a2aeb6"
      },
      "source": [
        "from matplotlib import pyplot as plt\n",
        "\n",
        "plt.plot(H.history['loss'],'r',label='training loss')\n",
        "plt.plot(H.history['val_loss'],label='validation loss')\n",
        "plt.plot(H.history['accuracy'],'r',label='training accuracy')\n",
        "plt.plot(H.history['val_accuracy'],label='validation accuracy')\n",
        "plt.xlabel('# epochs')\n",
        "plt.ylabel('loss')\n",
        "plt.legend()\n",
        "plt.show()"
      ],
      "execution_count": null,
      "outputs": [
        {
          "output_type": "display_data",
          "data": {
            "image/png": "[encoded data removed]",
            "text/plain": [
              "<Figure size 432x288 with 1 Axes>"
            ]
          },
          "metadata": {
            "tags": [],
            "needs_background": "light"
          }
        }
      ]
    },
    {
      "cell_type": "markdown",
      "metadata": {
        "id": "AJtauJmofJIF"
      },
      "source": [
        ""
      ]
    },
    {
      "cell_type": "code",
      "metadata": {
        "colab": {
          "base_uri": "https://localhost:8080/",
          "height": 279
        },
        "id": "_AO70Ku6fJU6",
        "outputId": "ac2a1f33-e38f-4788-9e7e-004a47557518"
      },
      "source": [
        "plt.plot(H.history['accuracy'],'r',label='training accuracy')\n",
        "plt.plot(H.history['val_accuracy'],label='validation accuracy')\n",
        "plt.xlabel('# epochs')\n",
        "plt.ylabel('loss')\n",
        "plt.legend()\n",
        "plt.show()"
      ],
      "execution_count": null,
      "outputs": [
        {
          "output_type": "display_data",
          "data": {
            "image/png": "[encoded data removed]",
            "text/plain": [
              "<Figure size 432x288 with 1 Axes>"
            ]
          },
          "metadata": {
            "tags": [],
            "needs_background": "light"
          }
        }
      ]
    },
    {
      "cell_type": "markdown",
      "metadata": {
        "id": "SUnHEJ11fjn0"
      },
      "source": [
        ""
      ]
    },
    {
      "cell_type": "code",
      "metadata": {
        "colab": {
          "base_uri": "https://localhost:8080/"
        },
        "id": "ugDw1sSCfj-U",
        "outputId": "d9ff2a67-e1e9-427a-cdd8-a822e7ac6b5a"
      },
      "source": [
        "from sklearn.metrics import classification_report\n",
        "predIdxs = model.predict(testX, batch_size=32)\n",
        "\n",
        "\n",
        "predIdxs = np.argmax(predIdxs, axis=1)\n",
        "\n",
        "print(classification_report(testY.argmax(axis=1), predIdxs,\n",
        "\ttarget_names=lb.classes_))"
      ],
      "execution_count": null,
      "outputs": [
        {
          "output_type": "stream",
          "text": [
            "                precision    recall  f1-score   support\n",
            "\n",
            "covid negative       0.95      0.97      0.96        36\n",
            " covid postive       0.97      0.94      0.96        36\n",
            "\n",
            "      accuracy                           0.96        72\n",
            "     macro avg       0.96      0.96      0.96        72\n",
            "  weighted avg       0.96      0.96      0.96        72\n",
            "\n"
          ],
          "name": "stdout"
        }
      ]
    },
    {
      "cell_type": "markdown",
      "metadata": {
        "id": "r2Vb4mRyhFkU"
      },
      "source": [
        ""
      ]
    },
    {
      "cell_type": "code",
      "metadata": {
        "colab": {
          "base_uri": "https://localhost:8080/"
        },
        "id": "qsEQUEt2hF3T",
        "outputId": "679b4216-3b17-4f22-eb32-998e27556c3e"
      },
      "source": [
        "from sklearn.metrics import confusion_matrix\n",
        "cm = confusion_matrix(testY.argmax(axis=1), predIdxs)\n",
        "total = sum(sum(cm))\n",
        "acc = (cm[0, 0] + cm[1, 1]) / total\n",
        "sensitivity = cm[0, 0] / (cm[0, 0] + cm[0, 1])\n",
        "specificity = cm[1, 1] / (cm[1, 0] + cm[1, 1])\n",
        "\n",
        "# show the confusion matrix, accuracy, sensitivity, and specificity\n",
        "print(cm)\n",
        "print(\"acc: {:.4f}\".format(acc))\n",
        "print(\"sensitivity: {:.4f}\".format(sensitivity))\n",
        "print(\"specificity: {:.4f}\".format(specificity))"
      ],
      "execution_count": null,
      "outputs": [
        {
          "output_type": "stream",
          "text": [
            "[[35  1]\n",
            " [ 2 34]]\n",
            "acc: 0.9583\n",
            "sensitivity: 0.9722\n",
            "specificity: 0.9444\n"
          ],
          "name": "stdout"
        }
      ]
    },
    {
      "cell_type": "markdown",
      "metadata": {
        "id": "7FJPvy7JiIDn"
      },
      "source": [
        ""
      ]
    }
  ]
}